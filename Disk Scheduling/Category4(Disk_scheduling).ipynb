{
  "nbformat": 4,
  "nbformat_minor": 0,
  "metadata": {
    "colab": {
      "name": "Category4(Disk scheduling).ipynb",
      "provenance": []
    },
    "kernelspec": {
      "name": "python3",
      "display_name": "Python 3"
    },
    "language_info": {
      "name": "python"
    }
  },
  "cells": [
    {
      "cell_type": "code",
      "metadata": {
        "colab": {
          "base_uri": "https://localhost:8080/"
        },
        "id": "AwqytHer4Q20",
        "outputId": "920875f3-226f-40fc-d636-4e7ab93c3fda"
      },
      "source": [
        "#a)\tFIFO disk Scheduling\n",
        "size = 8\n",
        "def FCFS(arr, head):\n",
        "\tseek_count = 0\n",
        "\tdistance, cur_track = 0, 0\n",
        "\tfor i in range(size):\n",
        "\t\tcur_track = arr[i]\n",
        "\t\tdistance = abs(cur_track - head)\n",
        "\t\tseek_count += distance\n",
        "\t\thead = cur_track\n",
        "\tprint(\"Total number of seek operations = \",seek_count)\n",
        "\tprint(\"Seek Sequence is\")\n",
        "\tfor i in range(size):\n",
        "\t\tprint(arr[i])\n",
        "\n",
        "arr = [ 182, 69, 24, 50,82, 15, 42, 124 ]\n",
        "head = 50;\n",
        "FCFS(arr, head)\n"
      ],
      "execution_count": 3,
      "outputs": [
        {
          "output_type": "stream",
          "name": "stdout",
          "text": [
            "Total number of seek operations =  524\n",
            "Seek Sequence is\n",
            "182\n",
            "69\n",
            "24\n",
            "50\n",
            "82\n",
            "15\n",
            "42\n",
            "124\n"
          ]
        }
      ]
    },
    {
      "cell_type": "code",
      "metadata": {
        "colab": {
          "base_uri": "https://localhost:8080/"
        },
        "id": "0al1bul55TaZ",
        "outputId": "49822c69-b77b-45e6-cc68-aadfe36c3571"
      },
      "source": [
        "#b)\tSSTF disk Scheduling\n",
        "\n",
        "def calculateDifference(queue, head, diff):\n",
        "\tfor i in range(len(diff)):\n",
        "\t\tdiff[i][0] = abs(queue[i] - head)\n",
        "def findMin(diff):\n",
        "\tindex = -1\n",
        "\tminimum = 999999999\n",
        "\tfor i in range(len(diff)):\n",
        "\t\tif (not diff[i][1] and\n",
        "\t\t\t\tminimum > diff[i][0]):\n",
        "\t\t\tminimum = diff[i][0]\n",
        "\t\t\tindex = i\n",
        "\treturn index\n",
        "def shortestSeekTimeFirst(request, head):\t\t\t\n",
        "\t\tif (len(request) == 0):\n",
        "\t\t\treturn\t\t\n",
        "\t\tl = len(request)\n",
        "\t\tdiff = [0] * l\n",
        "\t\tfor i in range(l):\n",
        "\t\t\tdiff[i] = [0, 0]\n",
        "\t\tseek_count = 0\n",
        "\t\tseek_sequence = [0] * (l + 1)\t\t\n",
        "\t\tfor i in range(l):\n",
        "\t\t\tseek_sequence[i] = head\n",
        "\t\t\tcalculateDifference(request, head, diff)\n",
        "\t\t\tindex = findMin(diff)\t\t\t\n",
        "\t\t\tdiff[index][1] = True\n",
        "\t\t\tseek_count += diff[index][0]\n",
        "\t\t\thead = request[index]\n",
        "\t\tseek_sequence[len(seek_sequence) - 1] = head\t\t\n",
        "\t\tprint(\"Total number of seek operations =\",seek_count)\t\t\t\t\t\t\n",
        "\t\tprint(\"Seek Sequence is\")\n",
        "\t\tfor i in range(l + 1):\n",
        "\t\t\tprint(seek_sequence[i])\n",
        "\n",
        "\n",
        "proc = [182, 69, 24, 50,82, 15, 42, 124]\n",
        "shortestSeekTimeFirst(proc, 50)\n"
      ],
      "execution_count": 5,
      "outputs": [
        {
          "output_type": "stream",
          "name": "stdout",
          "text": [
            "Total number of seek operations = 202\n",
            "Seek Sequence is\n",
            "50\n",
            "50\n",
            "42\n",
            "24\n",
            "15\n",
            "69\n",
            "82\n",
            "124\n",
            "182\n"
          ]
        }
      ]
    },
    {
      "cell_type": "code",
      "metadata": {
        "colab": {
          "base_uri": "https://localhost:8080/"
        },
        "id": "7KdN3r7R81Fh",
        "outputId": "4a74c451-1f8b-4c72-dc9d-3284bca7a472"
      },
      "source": [
        "#c)\tScan disk Scheduling\n",
        "\n",
        "size = 8\n",
        "disk_size = 200\n",
        "def SCAN(arr, head, direction):\n",
        "\tseek_count = 0\n",
        "\tdistance, cur_track = 0, 0\n",
        "\tleft = []\n",
        "\tright = []\n",
        "\tseek_sequence = []\n",
        "\tif (direction == \"left\"):\n",
        "\t\tleft.append(0)\n",
        "\telif (direction == \"right\"):\n",
        "\t\tright.append(disk_size - 1)\n",
        "\tfor i in range(size):\n",
        "\t\tif (arr[i] < head):\n",
        "\t\t\tleft.append(arr[i])\n",
        "\t\tif (arr[i] > head):\n",
        "\t\t\tright.append(arr[i])\n",
        "\tleft.sort()\n",
        "\tright.sort()\n",
        "\trun = 2\n",
        "\twhile (run != 0):\n",
        "\t\tif (direction == \"left\"):\n",
        "\t\t\tfor i in range(len(left) - 1, -1, -1):\n",
        "\t\t\t\tcur_track = left[i]\n",
        "\t\t\t\tseek_sequence.append(cur_track)\n",
        "\t\t\t\tdistance = abs(cur_track - head)\n",
        "\t\t\t\tseek_count += distance\n",
        "\t\t\t\thead = cur_track\t\t\n",
        "\t\t\tdirection = \"right\"\t\n",
        "\t\telif (direction == \"right\"):\n",
        "\t\t\tfor i in range(len(right)):\n",
        "\t\t\t\tcur_track = right[i]\n",
        "\t\t\t\tseek_sequence.append(cur_track)\n",
        "\t\t\t\tdistance = abs(cur_track - head)\n",
        "\t\t\t\tseek_count += distance\n",
        "\t\t\t\thead = cur_track\t\t\t\n",
        "\t\t\tdirection = \"left\"\t\t\n",
        "\t\trun -= 1\n",
        "\tprint(\"Total number of seek operations =\",seek_count)\n",
        "\tprint(\"Seek Sequence is\")\n",
        "\tfor i in range(len(seek_sequence)):\n",
        "\t\tprint(seek_sequence[i])\n",
        "arr = [ 182, 69, 24, 50,82, 15, 42, 124 ]\n",
        "head = 50\n",
        "direction = \"left\"\n",
        "SCAN(arr, head, direction)\n"
      ],
      "execution_count": 6,
      "outputs": [
        {
          "output_type": "stream",
          "name": "stdout",
          "text": [
            "Total number of seek operations = 232\n",
            "Seek Sequence is\n",
            "42\n",
            "24\n",
            "15\n",
            "0\n",
            "69\n",
            "82\n",
            "124\n",
            "182\n"
          ]
        }
      ]
    },
    {
      "cell_type": "code",
      "metadata": {
        "colab": {
          "base_uri": "https://localhost:8080/"
        },
        "id": "rcWXD_wR-b6J",
        "outputId": "f9bc5be7-a262-430d-d8fe-f15c0a9c774f"
      },
      "source": [
        "#d)\tLook disk Scheduling \n",
        "\n",
        "size = 8\n",
        "disk_size = 200\n",
        "def LOOK(arr, head, direction):\n",
        "    seek_count = 0\n",
        "    distance = 0\n",
        "    cur_track = 0\n",
        "    left = []\n",
        "    right = []\n",
        "    seek_sequence = []\n",
        "    for i in range(size):\n",
        "        if (arr[i] < head):\n",
        "          left.append(arr[i])\n",
        "        if (arr[i] > head):\n",
        "          right.append(arr[i])\n",
        "        left.sort()\n",
        "        right.sort()\n",
        "    run = 2\n",
        "    while (run):\n",
        "        if (direction == \"left\"):\n",
        "            for i in range(len(left) - 1, -1, -1):\n",
        "                cur_track = left[i]\n",
        "                seek_sequence.append(cur_track)\n",
        "                distance = abs(cur_track - head)\n",
        "                seek_count += distance\n",
        "                head = cur_track\n",
        "                direction = \"right\"\n",
        "        elif (direction == \"right\"):\n",
        "            for i in range(len(right)):\n",
        "              cur_track = right[i]\n",
        "              seek_sequence.append(cur_track)\n",
        "              distance = abs(cur_track - head)\n",
        "              seek_count += distance\n",
        "              head = cur_track\n",
        "              direction = \"left\"\n",
        "        run -= 1\n",
        "    print(\"Total number of seek operations =\",seek_count)\n",
        "    print(\"Seek Sequence is\")\n",
        "    for i in range(len(seek_sequence)):\n",
        "        print(seek_sequence[i])\n",
        "arr = [182, 69, 24, 50,82, 15, 42, 124]\n",
        "head = 50\n",
        "direction = \"right\"\n",
        "print(\"Initial position of head:\", head)\n",
        "LOOK(arr, head, direction)\n"
      ],
      "execution_count": 12,
      "outputs": [
        {
          "output_type": "stream",
          "name": "stdout",
          "text": [
            "Initial position of head: 50\n",
            "Total number of seek operations = 299\n",
            "Seek Sequence is\n",
            "69\n",
            "82\n",
            "124\n",
            "182\n",
            "42\n",
            "24\n",
            "15\n"
          ]
        }
      ]
    },
    {
      "cell_type": "code",
      "metadata": {
        "colab": {
          "base_uri": "https://localhost:8080/"
        },
        "id": "vvKRz0yABGKI",
        "outputId": "af2cb0b1-67fd-4948-8a76-f9849086d6c2"
      },
      "source": [
        "#e)\tC-Scan disk Scheduling\n",
        "\n",
        "size = 8\n",
        "disk_size = 200\n",
        "def CSCAN(arr, head):\n",
        "\tseek_count = 0\n",
        "\tdistance = 0\n",
        "\tcur_track = 0\n",
        "\tleft = []\n",
        "\tright = []\n",
        "\tseek_sequence = []\n",
        "\tleft.append(0)\n",
        "\tright.append(disk_size - 1)\n",
        "\tfor i in range(size):\n",
        "\t\tif (arr[i] < head):\n",
        "\t\t\tleft.append(arr[i])\n",
        "\t\tif (arr[i] > head):\n",
        "\t\t\tright.append(arr[i])\n",
        "\tleft.sort()\n",
        "\tright.sort()\n",
        "\tfor i in range(len(right)):\n",
        "\t\tcur_track = right[i]\n",
        "\t\tseek_sequence.append(cur_track)\n",
        "\n",
        "\t\tdistance = abs(cur_track - head)\n",
        "\t\tseek_count += distance\n",
        "\t\thead = cur_track\n",
        "\thead = 0\n",
        "\tseek_count += (disk_size - 1)\n",
        "\tfor i in range(len(left)):\n",
        "\t\tcur_track = left[i]\n",
        "\t\tseek_sequence.append(cur_track)\n",
        "\t\tdistance = abs(cur_track - head)\n",
        "\t\tseek_count += distance\n",
        "\t\thead = cur_track\n",
        "\tprint(\"Total number of seek operations =\",\n",
        "\t\tseek_count)\n",
        "\tprint(\"Seek Sequence is\")\n",
        "\tprint(*seek_sequence, sep=\"\\n\")\n",
        "arr = [182, 69, 24, 50,82, 15, 42, 124]\n",
        "head = 50\n",
        "print(\"Initial position of head:\", head)\n",
        "CSCAN(arr, head)\n"
      ],
      "execution_count": 14,
      "outputs": [
        {
          "output_type": "stream",
          "name": "stdout",
          "text": [
            "Initial position of head: 50\n",
            "Total number of seek operations = 390\n",
            "Seek Sequence is\n",
            "69\n",
            "82\n",
            "124\n",
            "182\n",
            "199\n",
            "0\n",
            "15\n",
            "24\n",
            "42\n"
          ]
        }
      ]
    },
    {
      "cell_type": "code",
      "metadata": {
        "colab": {
          "base_uri": "https://localhost:8080/"
        },
        "id": "rGDL7QqUCV5T",
        "outputId": "70fafa4e-3d6f-4820-c7e8-e0cb7a88262d"
      },
      "source": [
        "#f)\tC-Look disk Scheduling\n",
        "\n",
        "size = 8\n",
        "disk_size = 200\n",
        "def CLOOK(arr, head):\n",
        "    seek_count = 0\n",
        "    distance = 0\n",
        "    cur_track = 0\n",
        "    left = []\n",
        "    right = []\n",
        "    seek_sequence = []\n",
        "    for i in range(size):\n",
        "        if (arr[i] < head):\n",
        "            left.append(arr[i])\n",
        "        if (arr[i] > head):\n",
        "            right.append(arr[i])\n",
        "    left.sort()\n",
        "    right.sort()\n",
        "    for i in range(len(right)):\n",
        "        cur_track = right[i]  \n",
        "        seek_sequence.append(cur_track)\n",
        "        distance = abs(cur_track - head)\n",
        "        seek_count += distance\n",
        "        head = cur_track\n",
        "    seek_count += abs(head - left[0])\n",
        "    head = left[0]\n",
        "    for i in range(len(left)):\n",
        "        cur_track = left[i]\n",
        "        seek_sequence.append(cur_track)\n",
        "        distance = abs(cur_track - head)\n",
        "        seek_count += distance\n",
        "        head = cur_track\n",
        "    print(\"Total number of seek operations =\",seek_count)\n",
        "    print(\"Seek Sequence is\")\n",
        "    for i in range(len(seek_sequence)):\n",
        "        print(seek_sequence[i])\n",
        "arr = [182, 69, 24, 50,82, 15, 42, 124]\n",
        "head = 50\n",
        "print(\"Initial position of head:\", head)\n",
        "CLOOK(arr, head)\n"
      ],
      "execution_count": 16,
      "outputs": [
        {
          "output_type": "stream",
          "name": "stdout",
          "text": [
            "Initial position of head: 50\n",
            "Total number of seek operations = 326\n",
            "Seek Sequence is\n",
            "69\n",
            "82\n",
            "124\n",
            "182\n",
            "15\n",
            "24\n",
            "42\n"
          ]
        }
      ]
    }
  ]
}